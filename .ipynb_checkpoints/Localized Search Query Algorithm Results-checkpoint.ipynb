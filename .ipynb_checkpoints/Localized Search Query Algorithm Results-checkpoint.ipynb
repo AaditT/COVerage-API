{
 "cells": [
  {
   "cell_type": "code",
   "execution_count": 1,
   "metadata": {},
   "outputs": [
    {
     "name": "stderr",
     "output_type": "stream",
     "text": [
      "'[Searching' is not recognized as an internal or external command,\n",
      "operable program or batch file.\n"
     ]
    }
   ],
   "source": [
    "# COVerage: Region-Specific SARS-CoV-2 News Query Algorithm \n",
    "![Searching GIF](https://thumbs.gfycat.com/BlaringGaseousEsok-small.gif)"
   ]
  },
  {
   "cell_type": "markdown",
   "metadata": {},
   "source": [
    "# One time run - installs dependencies\n",
    "\n",
    "import matplotlib.pyplot as plt\n",
    "from newspaper import fulltext\n",
    "from nltk.corpus import wordnet\n",
    "import math\n",
    "import requests\n",
    "import numpy as np\n",
    "import pandas as pd \n",
    "from IPython.display import display, HTML\n",
    "from GoogleNews import GoogleNews\n",
    "from rank_bm25 import BM25Okapi\n",
    "\n"
   ]
  },
  {
   "cell_type": "code",
   "execution_count": 2,
   "metadata": {},
   "outputs": [],
   "source": [
    "def lavaa_extractive(query, url):\n",
    "    lavaa = 0\n",
    "    text = (fulltext(requests.get(url).text)).replace(\"\\n\", \" \")\n",
    "\n",
    "    query_words = query.split()\n",
    "    text_words = text.split()\n",
    "    text_words_len = len(text_words)\n",
    "    for word in text_words:\n",
    "        if word in query_words:\n",
    "            lavaa += 1\n",
    "    s_query = 10*(lavaa/text_words_len)\n",
    "    return 1 / (1 + math.exp(-s_query))\n",
    "\n",
    "def lavaa_abstractive(query, url):\n",
    "    syn = list()\n",
    "    query_words = query.split()\n",
    "    for word in query_words:\n",
    "        if word != \"news\":\n",
    "            for synset in wordnet.synsets(word):\n",
    "               for lemma in synset.lemmas():\n",
    "                  syn.append(lemma.name())\n",
    "            \n",
    "    lavaa = 0\n",
    "    try:\n",
    "        text = (fulltext(requests.get(url).text)).replace(\"\\n\", \" \")\n",
    "    except:\n",
    "        return 0\n",
    "    text_words = text.split()\n",
    "    text_words_len = len(text_words)\n",
    "    for word in text_words:\n",
    "        if word in query_words or word in syn:\n",
    "            lavaa += 1\n",
    "    s_query = 10*(lavaa/text_words_len)\n",
    "\n",
    "    return 1 / (1 + math.exp(-s_query))"
   ]
  },
  {
   "cell_type": "code",
   "execution_count": 3,
   "metadata": {},
   "outputs": [
    {
     "name": "stdout",
     "output_type": "stream",
     "text": [
      "[0. 0. 0. 0. 0. 0. 0. 0. 0. 0. 0. 0. 0. 0. 0. 0. 0. 0. 0. 0. 0. 0. 0. 0.\n",
      " 0. 0. 0. 0. 0. 0. 0. 0. 0. 0. 0. 0. 0. 0. 0. 0. 0. 0. 0. 0. 0. 0. 0. 0.\n",
      " 0. 0. 0. 0. 0. 0. 0. 0. 0. 0. 0. 0. 0. 0. 0. 0. 0. 0. 0. 0. 0. 0. 0. 0.\n",
      " 0. 0. 0. 0. 0. 0. 0. 0. 0. 0. 0. 0. 0. 0. 0. 0. 0. 0. 0. 0. 0. 0. 0. 0.\n",
      " 0. 0. 0. 0. 0. 0. 0. 0. 0. 0. 0. 0. 0. 0. 0. 0. 0. 0. 0. 0. 0. 0. 0. 0.\n",
      " 0. 0. 0. 0. 0. 0. 0. 0. 0. 0. 0. 0. 0. 0. 0. 0. 0. 0. 0. 0. 0. 0. 0. 0.\n",
      " 0. 0. 0. 0. 0. 0. 0. 0. 0. 0. 0. 0. 0. 0. 0. 0. 0. 0. 0. 0. 0. 0. 0. 0.\n",
      " 0. 0. 0. 0. 0. 0. 0. 0. 0. 0. 0. 0. 0. 0. 0. 0. 0. 0. 0. 0. 0. 0. 0. 0.\n",
      " 0. 0. 0. 0. 0. 0. 0. 0. 0. 0. 0. 0. 0. 0. 0. 0. 0. 0. 0. 0. 0. 0. 0. 0.\n",
      " 0. 0. 0. 0. 0. 0. 0. 0. 0. 0. 0. 0. 0. 0. 0. 0. 0. 0. 0. 0. 0. 0. 0. 0.\n",
      " 0. 0. 0. 0. 0. 0. 0. 0. 0. 0. 0. 0. 0. 0. 0. 0. 0. 0. 0. 0. 0. 0. 0. 0.\n",
      " 0. 0. 0. 0. 0. 0. 0. 0. 0. 0. 0. 0. 0. 0. 0. 0. 0. 0. 0. 0. 0. 0. 0. 0.\n",
      " 0. 0. 0. 0. 0. 0. 0. 0. 0. 0. 0. 0. 0. 0. 0. 0. 0. 0. 0. 0. 0. 0. 0. 0.\n",
      " 0. 0. 0. 0. 0. 0. 0. 0. 0. 0. 0. 0. 0. 0. 0. 0. 0. 0. 0. 0. 0. 0. 0. 0.\n",
      " 0. 0. 0. 0. 0. 0. 0. 0. 0. 0. 0. 0. 0. 0. 0. 0. 0. 0. 0. 0. 0. 0. 0. 0.\n",
      " 0. 0. 0. 0. 0. 0. 0. 0. 0. 0. 0. 0. 0. 0. 0. 0. 0. 0. 0. 0. 0. 0. 0. 0.\n",
      " 0. 0. 0. 0. 0. 0. 0. 0. 0. 0. 0. 0. 0. 0. 0. 0. 0. 0. 0. 0. 0. 0. 0. 0.\n",
      " 0. 0. 0. 0. 0. 0. 0. 0. 0. 0. 0. 0. 0. 0. 0. 0. 0. 0. 0. 0. 0. 0. 0. 0.\n",
      " 0. 0. 0. 0. 0. 0. 0. 0. 0. 0. 0. 0. 0. 0. 0. 0. 0. 0. 0. 0. 0. 0. 0. 0.\n",
      " 0. 0. 0. 0. 0. 0. 0. 0. 0. 0. 0. 0. 0. 0. 0. 0. 0. 0. 0. 0. 0. 0. 0. 0.\n",
      " 0. 0. 0. 0. 0. 0. 0. 0. 0. 0. 0. 0. 0. 0. 0. 0. 0. 0. 0. 0. 0. 0. 0. 0.\n",
      " 0. 0. 0. 0. 0. 0. 0. 0. 0. 0. 0. 0. 0. 0. 0. 0. 0. 0. 0. 0. 0. 0. 0. 0.\n",
      " 0. 0. 0.]\n"
     ]
    }
   ],
   "source": [
    "def bm25_metric(query, url):\n",
    "    try:\n",
    "        text = (fulltext(requests.get(url).text)).replace(\"\\n\", \" \")\n",
    "    except:\n",
    "        return 0.2\n",
    "    text_corpus = text.split()\n",
    "    bm25 = BM25Okapi(text_corpus)\n",
    "    query_tokens = query.split(\" \")\n",
    "    doc_scores = bm25.get_scores(query_tokens)\n",
    "    return doc_scores\n",
    "print(bm25_metric(\"Ramsey County Minnesota policy law\", \"https://www.twincities.com/2020/07/16/ramsey-county-judge-hears-arguments-alleging-gov-walzs-executive-orders-violate-civil-liberties/\"))"
   ]
  },
  {
   "cell_type": "code",
   "execution_count": 4,
   "metadata": {},
   "outputs": [
    {
     "data": {
      "text/plain": [
       "('https://www.twincities.com/2020/07/16/ramsey-county-judge-hears-arguments-alleging-gov-walzs-executive-orders-violate-civil-liberties/',\n",
       " 'https://www.fitchratings.com/research/us-public-finance/fitch-rates-minnesota-1-2b-ser-2020-go-state-bonds-aaa-outlook-stable-03-08-2020',\n",
       " 'https://kstp.com/news/could-officer-hiring-crisis-lead-to-end-of-small-town-police-departments-minnesota/5785217/')"
      ]
     },
     "execution_count": 4,
     "metadata": {},
     "output_type": "execute_result"
    }
   ],
   "source": [
    "# Google News Query\n",
    "\n",
    "def query_urls(query):\n",
    "    urls = []\n",
    "    googlenews = GoogleNews()\n",
    "    googlenews.setlang('en')\n",
    "    googlenews.search(query)\n",
    "    results = googlenews.result()\n",
    "    count = 3\n",
    "    for i in range(count):\n",
    "        url = results[i]['link']\n",
    "        try:\n",
    "            text = (fulltext(requests.get(url).text)).replace(\"\\n\", \" \")\n",
    "        except:\n",
    "            count += 1\n",
    "        urls.append(url)\n",
    "    return urls[0], urls[1], urls[2]\n",
    "\n",
    "query_urls(\"Ramsey County Minnesota policy law\")"
   ]
  },
  {
   "cell_type": "markdown",
   "metadata": {},
   "source": [
    "# Query 1 - Ramsey County, Minnesota: Law\n",
    "![Image of Ramsey County](https://www.ramseycounty.us/sites/default/files/styles/section_lead_in/public/Departments/Workforce%20Solutions/GovCenterEastbuilding_0.jpg?itok=qu2oQuJm)"
   ]
  },
  {
   "cell_type": "code",
   "execution_count": 5,
   "metadata": {},
   "outputs": [],
   "source": [
    "# URL's determined by Google News search algorithm\n",
    "\n",
    "query1 = \"Ramsey County Minnesota coronavirus policy news\"\n",
    "url1_1, url1_2, url1_3 = query_urls(query1)\n",
    "\n",
    "query2 = \"Ramsey County Minnesota coronavirus law news\"\n",
    "url2_1, url2_2, url2_3 = query_urls(query2)\n",
    "\n",
    "query3 = \"Ramsey County Minnesota coronavirus legal news\"\n",
    "url3_1, url3_2, url3_3 = query_urls(query3)\n",
    "\n",
    "score1_1 = lavaa_abstractive(query1, url1_1)\n",
    "score1_2 = lavaa_abstractive(query1, url1_2)\n",
    "score1_3 = lavaa_abstractive(query1, url1_3)\n",
    "score2_1 = lavaa_abstractive(query2, url2_1)\n",
    "score2_2 = lavaa_abstractive(query2, url2_2)\n",
    "score2_3 = lavaa_abstractive(query2, url2_3)\n",
    "score3_1 = lavaa_abstractive(query3, url3_1)\n",
    "score3_2 = lavaa_abstractive(query3, url3_2)\n",
    "score3_3 = lavaa_abstractive(query3, url3_3)\n",
    "\n",
    "score1_vals = [score1_1, score1_2, score1_3]\n",
    "score2_vals = [score2_1, score2_2, score2_3]\n",
    "score3_vals = [score3_1, score3_2, score3_3]"
   ]
  },
  {
   "cell_type": "code",
   "execution_count": 6,
   "metadata": {},
   "outputs": [],
   "source": [
    "def visualization(queries, score_vals):\n",
    "    query1 = queries[0]\n",
    "    query2 = queries[1]\n",
    "    query3 = queries[2]\n",
    "    score1_vals = score_vals[0]\n",
    "    score2_vals = score_vals[1]\n",
    "    score3_vals = score_vals[2]\n",
    "\n",
    "    index = np.arange(3)\n",
    "    width = 0.20\n",
    "    fig = plt.figure()\n",
    "    ax = fig.add_subplot(111)\n",
    "\n",
    "    col1 = ax.bar(index, score1_vals, width, color='b')\n",
    "    col2 = ax.bar(index+width, score2_vals, width, color='cornflowerblue')\n",
    "    col3 = ax.bar(index+width*2, score3_vals, width, color='lightsteelblue')\n",
    "\n",
    "    ax.set_ylabel('COVerage Local Query Metric (LQM)')\n",
    "    ax.set_xlabel('Queries')\n",
    "    ax.set_xticks(index+width)\n",
    "    ax.set_ylim(0.0, 1.0)\n",
    "    ax.set_xticklabels((query1, query2, query3), rotation=15)\n",
    "    ax.legend((col1[0], col2[0], col3[0]), ('First result of Google News search', 'Second result of Google News search', 'Third result of Google News search'))\n",
    "    plt.show()\n",
    "\n",
    "    score1_av = sum(score1_vals) / len(score1_vals)\n",
    "    score2_av = sum(score2_vals) / len(score2_vals)\n",
    "    score3_av = sum(score3_vals) / len(score3_vals)\n",
    "    scores_av = [score1_av, score2_av, score3_av]\n",
    "\n",
    "    # Calling DataFrame constructor after zipping \n",
    "    # both lists, with columns specified \n",
    "    df = pd.DataFrame(list(zip([query1, query2, query3], scores_av)), \n",
    "                   columns =['Query', 'Average LQM']) \n",
    "    display(df)\n"
   ]
  },
  {
   "cell_type": "code",
   "execution_count": 7,
   "metadata": {},
   "outputs": [
    {
     "data": {
      "image/png": "[encoded data removed]",
      "text/plain": [
       "<Figure size 432x288 with 1 Axes>"
      ]
     },
     "metadata": {
      "needs_background": "light"
     },
     "output_type": "display_data"
    },
    {
     "data": {
      "text/html": [
       "<div>\n",
       "<style scoped>\n",
       "    .dataframe tbody tr th:only-of-type {\n",
       "        vertical-align: middle;\n",
       "    }\n",
       "\n",
       "    .dataframe tbody tr th {\n",
       "        vertical-align: top;\n",
       "    }\n",
       "\n",
       "    .dataframe thead th {\n",
       "        text-align: right;\n",
       "    }\n",
       "</style>\n",
       "<table border=\"1\" class=\"dataframe\">\n",
       "  <thead>\n",
       "    <tr style=\"text-align: right;\">\n",
       "      <th></th>\n",
       "      <th>Query</th>\n",
       "      <th>Average LQM</th>\n",
       "    </tr>\n",
       "  </thead>\n",
       "  <tbody>\n",
       "    <tr>\n",
       "      <th>0</th>\n",
       "      <td>Ramsey County Minnesota coronavirus policy news</td>\n",
       "      <td>0.358945</td>\n",
       "    </tr>\n",
       "    <tr>\n",
       "      <th>1</th>\n",
       "      <td>Ramsey County Minnesota coronavirus law news</td>\n",
       "      <td>0.359355</td>\n",
       "    </tr>\n",
       "    <tr>\n",
       "      <th>2</th>\n",
       "      <td>Ramsey County Minnesota coronavirus legal news</td>\n",
       "      <td>0.351673</td>\n",
       "    </tr>\n",
       "  </tbody>\n",
       "</table>\n",
       "</div>"
      ],
      "text/plain": [
       "                                             Query  Average LQM\n",
       "0  Ramsey County Minnesota coronavirus policy news     0.358945\n",
       "1     Ramsey County Minnesota coronavirus law news     0.359355\n",
       "2   Ramsey County Minnesota coronavirus legal news     0.351673"
      ]
     },
     "metadata": {},
     "output_type": "display_data"
    }
   ],
   "source": [
    "visualization([query1, query2, query3], [score1_vals, score2_vals, score3_vals])"
   ]
  },
  {
   "cell_type": "markdown",
   "metadata": {},
   "source": [
    "# Query 2 - Clark County, Nevada: Economy\n",
    "![Clark County Image](https://www.clarkcountynv.gov/brc/PublishingImages/ED_Clip1.jpg)"
   ]
  },
  {
   "cell_type": "code",
   "execution_count": 8,
   "metadata": {},
   "outputs": [],
   "source": [
    "query1 = \"Clark County Nevada coronavirus economy impact\"\n",
    "url1_1, url1_2, url1_3 = query_urls(query1)\n",
    "\n",
    "query2 = \"Clark County Nevada coronavirus businesses\"\n",
    "url2_1, url2_2, url2_3 = query_urls(query2)\n",
    "\n",
    "query3 = \"Clark County Nevada coronavirus workforce employment\"\n",
    "url3_1, url3_2, url3_3 = query_urls(query3)\n",
    "\n",
    "score1_1 = lavaa_abstractive(query1, url1_1)\n",
    "score1_2 = lavaa_abstractive(query1, url1_2)\n",
    "score1_3 = lavaa_abstractive(query1, url1_3)\n",
    "score2_1 = lavaa_abstractive(query2, url2_1)\n",
    "score2_2 = lavaa_abstractive(query2, url2_2)\n",
    "score2_3 = lavaa_abstractive(query2, url2_3)\n",
    "score3_1 = lavaa_abstractive(query3, url3_1)\n",
    "score3_2 = lavaa_abstractive(query3, url3_2)\n",
    "score3_3 = lavaa_abstractive(query3, url3_3)\n",
    "\n",
    "score1_vals = [score1_1, score1_2, score1_3]\n",
    "score2_vals = [score2_1, score2_2, score2_3]\n",
    "score3_vals = [score3_1, score3_2, score3_3]"
   ]
  },
  {
   "cell_type": "code",
   "execution_count": 9,
   "metadata": {},
   "outputs": [
    {
     "data": {
      "image/png": "[encoded data removed]",
      "text/plain": [
       "<Figure size 432x288 with 1 Axes>"
      ]
     },
     "metadata": {
      "needs_background": "light"
     },
     "output_type": "display_data"
    },
    {
     "data": {
      "text/html": [
       "<div>\n",
       "<style scoped>\n",
       "    .dataframe tbody tr th:only-of-type {\n",
       "        vertical-align: middle;\n",
       "    }\n",
       "\n",
       "    .dataframe tbody tr th {\n",
       "        vertical-align: top;\n",
       "    }\n",
       "\n",
       "    .dataframe thead th {\n",
       "        text-align: right;\n",
       "    }\n",
       "</style>\n",
       "<table border=\"1\" class=\"dataframe\">\n",
       "  <thead>\n",
       "    <tr style=\"text-align: right;\">\n",
       "      <th></th>\n",
       "      <th>Query</th>\n",
       "      <th>Average LQM</th>\n",
       "    </tr>\n",
       "  </thead>\n",
       "  <tbody>\n",
       "    <tr>\n",
       "      <th>0</th>\n",
       "      <td>Clark County Nevada coronavirus economy impact</td>\n",
       "      <td>0.615257</td>\n",
       "    </tr>\n",
       "    <tr>\n",
       "      <th>1</th>\n",
       "      <td>Clark County Nevada coronavirus businesses</td>\n",
       "      <td>0.556949</td>\n",
       "    </tr>\n",
       "    <tr>\n",
       "      <th>2</th>\n",
       "      <td>Clark County Nevada coronavirus workforce empl...</td>\n",
       "      <td>0.537104</td>\n",
       "    </tr>\n",
       "  </tbody>\n",
       "</table>\n",
       "</div>"
      ],
      "text/plain": [
       "                                               Query  Average LQM\n",
       "0     Clark County Nevada coronavirus economy impact     0.615257\n",
       "1         Clark County Nevada coronavirus businesses     0.556949\n",
       "2  Clark County Nevada coronavirus workforce empl...     0.537104"
      ]
     },
     "metadata": {},
     "output_type": "display_data"
    }
   ],
   "source": [
    "visualization([query1, query2, query3], [score1_vals, score2_vals, score3_vals])"
   ]
  },
  {
   "cell_type": "markdown",
   "metadata": {},
   "source": [
    "# Query 3 - Sedgwick County, Kansas: Statistics\n",
    "![Sedgwick County, Kansas](https://upload.wikimedia.org/wikipedia/commons/thumb/2/2a/Sedgwick_county_kansas_courthouse_2009.jpg/1200px-Sedgwick_county_kansas_courthouse_2009.jpg)"
   ]
  },
  {
   "cell_type": "code",
   "execution_count": 12,
   "metadata": {},
   "outputs": [],
   "source": [
    "query1 = \"providence county rhode island coronavirus statistics\"\n",
    "url1_1, url1_2, url1_3 = query_urls(query1)\n",
    "\n",
    "query2 = \"providence county rhode island coronavirus statistics\"\n",
    "url2_1, url2_2, url2_3 = query_urls(query2)\n",
    "\n",
    "query3 = \"providence county rhode island coronavirus statistics\"\n",
    "url3_1, url3_2, url3_3 = query_urls(query3)\n",
    "\n",
    "score1_1 = lavaa_abstractive(query1, url1_1)\n",
    "score1_2 = lavaa_abstractive(query1, url1_2)\n",
    "score1_3 = lavaa_abstractive(query1, url1_3)\n",
    "score2_1 = lavaa_abstractive(query2, url2_1)\n",
    "score2_2 = lavaa_abstractive(query2, url2_2)\n",
    "score2_3 = lavaa_abstractive(query2, url2_3)\n",
    "score3_1 = lavaa_abstractive(query3, url3_1)\n",
    "score3_2 = lavaa_abstractive(query3, url3_2)\n",
    "score3_3 = lavaa_abstractive(query3, url3_3)\n",
    "\n",
    "score1_vals = [score1_1, score1_2, score1_3]\n",
    "score2_vals = [score2_1, score2_2, score2_3]\n",
    "score3_vals = [score3_1, score3_2, score3_3]"
   ]
  },
  {
   "cell_type": "code",
   "execution_count": 11,
   "metadata": {},
   "outputs": [
    {
     "data": {
      "image/png": "[encoded data removed]",
      "text/plain": [
       "<Figure size 432x288 with 1 Axes>"
      ]
     },
     "metadata": {
      "needs_background": "light"
     },
     "output_type": "display_data"
    },
    {
     "data": {
      "text/html": [
       "<div>\n",
       "<style scoped>\n",
       "    .dataframe tbody tr th:only-of-type {\n",
       "        vertical-align: middle;\n",
       "    }\n",
       "\n",
       "    .dataframe tbody tr th {\n",
       "        vertical-align: top;\n",
       "    }\n",
       "\n",
       "    .dataframe thead th {\n",
       "        text-align: right;\n",
       "    }\n",
       "</style>\n",
       "<table border=\"1\" class=\"dataframe\">\n",
       "  <thead>\n",
       "    <tr style=\"text-align: right;\">\n",
       "      <th></th>\n",
       "      <th>Query</th>\n",
       "      <th>Average LQM</th>\n",
       "    </tr>\n",
       "  </thead>\n",
       "  <tbody>\n",
       "    <tr>\n",
       "      <th>0</th>\n",
       "      <td>49ers score</td>\n",
       "      <td>0.53413</td>\n",
       "    </tr>\n",
       "    <tr>\n",
       "      <th>1</th>\n",
       "      <td>49ers score</td>\n",
       "      <td>0.53413</td>\n",
       "    </tr>\n",
       "    <tr>\n",
       "      <th>2</th>\n",
       "      <td>49ers score</td>\n",
       "      <td>0.53413</td>\n",
       "    </tr>\n",
       "  </tbody>\n",
       "</table>\n",
       "</div>"
      ],
      "text/plain": [
       "         Query  Average LQM\n",
       "0  49ers score      0.53413\n",
       "1  49ers score      0.53413\n",
       "2  49ers score      0.53413"
      ]
     },
     "metadata": {},
     "output_type": "display_data"
    }
   ],
   "source": [
    "visualization([query1, query2, query3], [score1_vals, score2_vals, score3_vals])"
   ]
  },
  {
   "cell_type": "code",
   "execution_count": null,
   "metadata": {},
   "outputs": [],
   "source": []
  }
 ],
 "metadata": {
  "kernelspec": {
   "display_name": "Python 3",
   "language": "python",
   "name": "python3"
  },
  "language_info": {
   "codemirror_mode": {
    "name": "ipython",
    "version": 3
   },
   "file_extension": ".py",
   "mimetype": "text/x-python",
   "name": "python",
   "nbconvert_exporter": "python",
   "pygments_lexer": "ipython3",
   "version": "3.7.6"
  }
 },
 "nbformat": 4,
 "nbformat_minor": 4
}
